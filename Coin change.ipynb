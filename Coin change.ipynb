{
 "cells": [
  {
   "cell_type": "code",
   "execution_count": 2,
   "metadata": {
    "collapsed": true
   },
   "outputs": [],
   "source": [
    "def main():\n",
    "    print(\"change counter\")\n",
    "    print()\n",
    "    print(\"please enter the count of each coin type\")\n",
    "    quarters=input(\"Quarters: \")\n",
    "    dimes=input(\"dimes: \")\n",
    "    nickels=input(\"nickels: \")\n",
    "    pennies=input(\"Pennies: \")\n",
    "    total=float(quarters)*.25+float(dimes)*.10+ float(nickels)*.05+float(pennies)*0.01\n",
    "    print()\n",
    "    print(\"the total value of your change is\", total)"
   ]
  },
  {
   "cell_type": "code",
   "execution_count": 3,
   "metadata": {},
   "outputs": [
    {
     "name": "stdout",
     "output_type": "stream",
     "text": [
      "change counter\n",
      "\n",
      "please enter the count of each coin type\n",
      "Quarters: 2\n",
      "dimes: 2\n",
      "nickels: 3\n",
      "Pennies: 2\n",
      "\n",
      "the total value of your change is 0.87\n"
     ]
    }
   ],
   "source": [
    "main()"
   ]
  },
  {
   "cell_type": "code",
   "execution_count": null,
   "metadata": {
    "collapsed": true
   },
   "outputs": [],
   "source": []
  }
 ],
 "metadata": {
  "kernelspec": {
   "display_name": "Python 3",
   "language": "python",
   "name": "python3"
  },
  "language_info": {
   "codemirror_mode": {
    "name": "ipython",
    "version": 3
   },
   "file_extension": ".py",
   "mimetype": "text/x-python",
   "name": "python",
   "nbconvert_exporter": "python",
   "pygments_lexer": "ipython3",
   "version": "3.6.1"
  }
 },
 "nbformat": 4,
 "nbformat_minor": 2
}
